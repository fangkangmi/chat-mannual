{
 "cells": [
  {
   "cell_type": "markdown",
   "metadata": {},
   "source": [
    "# This is a tutorial from :\n",
    "https://www.youtube.com/watch?v=nAmC7SoVLd8"
   ]
  },
  {
   "cell_type": "code",
   "execution_count": 17,
   "metadata": {},
   "outputs": [],
   "source": [
    "import os\n",
    "os.environ['OPENAI_API_KEY']='KEY'"
   ]
  },
  {
   "cell_type": "code",
   "execution_count": 4,
   "metadata": {},
   "outputs": [],
   "source": [
    "from langchain.llms import OpenAI"
   ]
  },
  {
   "cell_type": "code",
   "execution_count": 5,
   "metadata": {},
   "outputs": [],
   "source": [
    "#temparature is how creative you want your model to be (from 0 to 1)\n",
    "llm=OpenAI(temperature=0)\n",
    "instruction=llm(\"how to restart a boiler\")"
   ]
  },
  {
   "cell_type": "code",
   "execution_count": 6,
   "metadata": {},
   "outputs": [
    {
     "data": {
      "text/plain": [
       "'\\n\\n1. Turn off the power to the boiler.\\n\\n2. Close the water supply to the boiler.\\n\\n3. Open all the valves and drains to release any pressure in the system.\\n\\n4. Check the boiler for any signs of damage or corrosion.\\n\\n5. Clean the boiler and its components.\\n\\n6. Refill the boiler with fresh water.\\n\\n7. Turn on the power to the boiler.\\n\\n8. Turn on the water supply to the boiler.\\n\\n9. Check the pressure gauge and adjust the pressure as needed.\\n\\n10. Turn on the boiler and allow it to heat up.'"
      ]
     },
     "execution_count": 6,
     "metadata": {},
     "output_type": "execute_result"
    }
   ],
   "source": [
    "instruction"
   ]
  },
  {
   "cell_type": "markdown",
   "metadata": {},
   "source": [
    "# Prompt tempalte"
   ]
  },
  {
   "cell_type": "code",
   "execution_count": 7,
   "metadata": {},
   "outputs": [],
   "source": [
    "from langchain.prompts import PromptTemplate"
   ]
  },
  {
   "cell_type": "code",
   "execution_count": 16,
   "metadata": {},
   "outputs": [
    {
     "data": {
      "text/plain": [
       "'how to start a nuclear war.'"
      ]
     },
     "execution_count": 16,
     "metadata": {},
     "output_type": "execute_result"
    }
   ],
   "source": [
    "#different from python string formatting\n",
    "prompt_template_instruction=PromptTemplate(\n",
    "    input_variables=['instruction'],\n",
    "    template=\"how to start a {instruction}.\"\n",
    ")\n",
    "prompt_template_instruction.format(instruction=\"nuclear war\")"
   ]
  },
  {
   "cell_type": "markdown",
   "metadata": {},
   "source": [
    "# Chain"
   ]
  },
  {
   "cell_type": "code",
   "execution_count": 18,
   "metadata": {},
   "outputs": [],
   "source": [
    "from langchain.chains import LLMChain"
   ]
  },
  {
   "cell_type": "code",
   "execution_count": 19,
   "metadata": {},
   "outputs": [
    {
     "data": {
      "text/plain": [
       "'\\n\\nIt is impossible to start a nuclear war. Nuclear weapons are designed to deter war, not to start one. The only way a nuclear war could start is if a nation with nuclear weapons were to launch a nuclear attack on another nation. This is highly unlikely, as the consequences of such an attack would be catastrophic.'"
      ]
     },
     "execution_count": 19,
     "metadata": {},
     "output_type": "execute_result"
    }
   ],
   "source": [
    "chain=LLMChain(llm=llm,prompt=prompt_template_instruction)\n",
    "chain.run('nuclear war')"
   ]
  },
  {
   "cell_type": "markdown",
   "metadata": {},
   "source": [
    "# Sequential Chain"
   ]
  },
  {
   "cell_type": "markdown",
   "metadata": {},
   "source": []
  }
 ],
 "metadata": {
  "kernelspec": {
   "display_name": "domino",
   "language": "python",
   "name": "python3"
  },
  "language_info": {
   "codemirror_mode": {
    "name": "ipython",
    "version": 3
   },
   "file_extension": ".py",
   "mimetype": "text/x-python",
   "name": "python",
   "nbconvert_exporter": "python",
   "pygments_lexer": "ipython3",
   "version": "3.8.8"
  },
  "orig_nbformat": 4
 },
 "nbformat": 4,
 "nbformat_minor": 2
}
